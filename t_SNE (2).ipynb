{
  "nbformat": 4,
  "nbformat_minor": 0,
  "metadata": {
    "colab": {
      "name": "t-SNE.ipynb",
      "provenance": []
    },
    "kernelspec": {
      "name": "python3",
      "display_name": "Python 3"
    },
    "language_info": {
      "name": "python"
    }
  },
  "cells": [
    {
      "cell_type": "code",
      "metadata": {
        "colab": {
          "base_uri": "https://localhost:8080/",
          "height": 335
        },
        "id": "lY_xTg_Tpfjv",
        "outputId": "442da36a-b13e-475b-a059-01aafd7ed5b6"
      },
      "source": [
        "import random\n",
        "import matplotlib.pyplot as plt\n",
        "import numpy as np\n",
        "import seaborn as sns\n",
        "import pandas as pd\n",
        "\n",
        "A = [random.gauss(100,200) for i in range(200)]\n",
        "'''\n",
        "B = [random.gauss(200,10) for i in range(100)]\n",
        "C = [random.gauss(200,10) for i in range(100)]\n",
        "D = [random.gauss(400,100) for i in range(200)]\n",
        "E = [random.gauss(800,10) for i in range(100)]\n",
        "F = [random.gauss(800,10) for i in range(100)]\n",
        "G = [random.gauss(900,400) for i in range(200)]\n",
        "'''\n",
        "sns.distplot(A, hist=False,color='red')\n",
        "'''\n",
        "sns.distplot(B, hist=False,color='blue')\n",
        "sns.distplot(C, hist=False,color='green')\n",
        "sns.distplot(D, hist=False,color='black')\n",
        "sns.distplot(E, hist=False,color='yellow')\n",
        "sns.distplot(F, hist=False,color='gray')\n",
        "sns.distplot(G, hist=False,color='purple')\n",
        "'''\n",
        "plt.show()\n",
        "print(A)"
      ],
      "execution_count": null,
      "outputs": [
        {
          "output_type": "stream",
          "text": [
            "/usr/local/lib/python3.7/dist-packages/seaborn/distributions.py:2557: FutureWarning: `distplot` is a deprecated function and will be removed in a future version. Please adapt your code to use either `displot` (a figure-level function with similar flexibility) or `kdeplot` (an axes-level function for kernel density plots).\n",
            "  warnings.warn(msg, FutureWarning)\n"
          ],
          "name": "stderr"
        },
        {
          "output_type": "display_data",
          "data": {
            "image/png": "[encoded data removed]",
            "text/plain": [
              "<Figure size 432x288 with 1 Axes>"
            ]
          },
          "metadata": {
            "tags": [],
            "needs_background": "light"
          }
        },
        {
          "output_type": "stream",
          "text": [
            "[204.97762004414744, -113.25238522040567, 19.25227072397773, 153.72793510304177, -111.58067408164669, 305.6245137640277, 384.7500455746472, 365.35965265111605, 221.83276127996282, 553.7259868602946, -85.32157881787637, 360.1974658108724, -190.1663096768579, -115.13156730863287, -147.22523719850255, 309.22298677757317, 372.38002173275856, 222.6931720425056, -263.65000064771914, 247.53358420036344, 122.93060976330428, 65.3258908420141, 307.4237587990769, 5.828401031007147, -41.60895473257855, 77.13970528954081, 228.00634397894288, 264.3892518166425, 193.64382391550714, 16.854411982585788, -130.15762706519163, -88.87031981027727, -76.07536296179066, 538.199880154007, 321.9186683262401, 51.03295929816032, 196.44462787915484, -310.0930474180179, -53.648245278448144, -153.9017717893033, -132.137366461957, 81.54854343645867, -42.23748493610094, 38.7838578098724, 288.99752472224304, -16.225709563245474, -30.156889160545433, 155.03996836660684, 41.3992847979046, -53.174408775399854, 454.3177735468299, -211.20128651619518, 198.83244187661745, 84.12072287459159, 51.85907879159176, -67.12978793913624, -135.57600430291936, 11.93892514043553, 362.10361242254663, -23.1010758962272, 185.9377904178892, -211.36169588522228, -160.18512788177725, 144.95676153085054, 228.30679159726, 274.4875601329972, 220.33889878459414, 255.23384483284713, 226.3138526844789, 190.8657017090831, -51.56282992145029, -146.5319954846499, 16.059855612736143, -188.94618028344007, 263.027064603487, 51.383104694003606, 496.16776174660396, -59.21492383633776, 116.38338461853822, 131.67712870914406, 227.72356865113238, 418.9422178006407, -50.035020152290286, 204.6669097448028, 255.4797063411857, -31.038766347596805, 268.2112945682195, 112.51827004601046, -91.88907974393285, 32.627556331442904, 130.74203604225437, 84.2492178693322, -69.7574137779813, -118.54779150139652, 301.1574435487044, 88.68915483401027, 402.31849554684516, 37.13950150375928, 99.15241160335125, 68.96529570986127, 100.99329994875262, 186.29897716083593, -127.18236663484547, 158.64779703292476, -137.50009808042765, 1.60659847835241, 521.1590049653677, 273.6859139767065, 44.83382702296538, -59.507729799754514, -8.597644130819432, 506.8825287553392, -151.2234686353716, 270.45601747537626, -303.81208096923837, 173.15643620491605, 328.92005968613955, 54.09549359992067, 496.7457130854848, 63.19191757293469, 385.89068856936575, 138.36062663728876, -229.827750312251, 489.49958837785397, -68.27874675742737, 355.80404190521887, 113.46030722740416, 247.82115126675964, 130.79551099679725, 455.0315080435249, 295.899464977444, 41.83950703352114, -216.3729439658938, 346.15844894525264, -88.03093097976401, -56.96921289114286, 135.01864622885705, 28.437032548293374, 367.4060110482449, -8.92390006454113, 289.69968698664445, 38.63392899740457, -161.46003473370672, 449.1764910617265, -180.5462257635391, 214.94545322819738, 265.23971870954784, 171.0728930188023, -170.07143374012747, -29.81236648607387, 262.1938448737741, 129.04101597509964, -232.08033962203706, -28.126369925364685, 86.07851552338307, 274.06460053122544, -139.12274503660532, 568.628976468261, -131.86459212045233, -363.49876335820255, -123.48356151049745, 49.50850697501242, 92.95898154714217, -113.12133651439811, -298.3140807866728, -117.05165882736651, 81.74362615567753, -504.9138181589499, 326.4142010182487, -111.04535480102089, 5.667412954393555, 203.21658470878478, 261.8174536950223, 286.4927515125927, 139.38214240162074, -41.04263451405171, -115.91360673987435, 269.0081143418296, -237.19537901754205, 152.5354661729397, 421.2711229417572, 175.00098420223276, 52.91599862965643, 178.42325666640266, 179.02007513999058, 39.51562635050699, 18.180675704048227, 183.14939326957412, -13.219581654969701, -270.2987069036144, 321.42784132550224, -96.90145438082288, -311.19897936918903, 68.4226692825626, 298.42622600726975, 410.62731568154004, 147.0661062739323, 312.6390089702196, 301.5959842692334, 169.19348174674172]\n"
          ],
          "name": "stdout"
        }
      ]
    },
    {
      "cell_type": "code",
      "metadata": {
        "colab": {
          "base_uri": "https://localhost:8080/",
          "height": 304
        },
        "id": "zvaBvPXyJTfe",
        "outputId": "15932913-f1e6-4d16-a0c4-86ec6fb4cd7f"
      },
      "source": [
        "classa = pd.read_excel('/content/DrinkDatasets.xlsx')\n",
        "print(classa)\n",
        "'''\n",
        "classb = pd.read_excel('/content/B data.xlsx')\n",
        "print(classb)\n",
        "\n",
        "classc = pd.read_excel('/content/C data.xlsx')\n",
        "print(classc)\n",
        "\n",
        "classd = pd.read_excel('/content/D data.xlsx')\n",
        "print(classd)\n",
        "\n",
        "classe = pd.read_excel('/content/E data.xlsx')\n",
        "print(classe)\n",
        "\n",
        "classf = pd.read_excel('/content/F data.xlsx')\n",
        "print(classf)\n",
        "\n",
        "classg = pd.read_excel('/content/G data.xlsx')\n",
        "print(classg)\n",
        "'''"
      ],
      "execution_count": null,
      "outputs": [
        {
          "output_type": "stream",
          "text": [
            "     Class  Drink1  Drink2  Drink3  ...  Drink6  Drink7  Rank        Count\n",
            "0        0       1       0       0  ...       0       0     7    18.389828\n",
            "1        0       1       0       0  ...       0       0     7   136.850523\n",
            "2        0       1       0       0  ...       0       0     7   329.217886\n",
            "3        0       1       0       0  ...       0       0     7   162.607919\n",
            "4        0       1       0       0  ...       0       0     7    80.760192\n",
            "..     ...     ...     ...     ...  ...     ...     ...   ...          ...\n",
            "995      6       0       0       0  ...       0       1     1   581.565939\n",
            "996      6       0       0       0  ...       0       1     1   794.895154\n",
            "997      6       0       0       0  ...       0       1     1   815.342490\n",
            "998      6       0       0       0  ...       0       1     1  1023.047759\n",
            "999      6       0       0       0  ...       0       1     1   577.304546\n",
            "\n",
            "[1000 rows x 10 columns]\n"
          ],
          "name": "stdout"
        },
        {
          "output_type": "execute_result",
          "data": {
            "application/vnd.google.colaboratory.intrinsic+json": {
              "type": "string"
            },
            "text/plain": [
              "\"\\nclassb = pd.read_excel('/content/B data.xlsx')\\nprint(classb)\\n\\nclassc = pd.read_excel('/content/C data.xlsx')\\nprint(classc)\\n\\nclassd = pd.read_excel('/content/D data.xlsx')\\nprint(classd)\\n\\nclasse = pd.read_excel('/content/E data.xlsx')\\nprint(classe)\\n\\nclassf = pd.read_excel('/content/F data.xlsx')\\nprint(classf)\\n\\nclassg = pd.read_excel('/content/G data.xlsx')\\nprint(classg)\\n\""
            ]
          },
          "metadata": {
            "tags": []
          },
          "execution_count": 2
        }
      ]
    },
    {
      "cell_type": "code",
      "metadata": {
        "id": "yDWEz4a2ZAbx",
        "colab": {
          "base_uri": "https://localhost:8080/",
          "height": 69
        },
        "outputId": "9e254526-5114-408b-c3cb-6b92c6b7848b"
      },
      "source": [
        "import numpy as np\n",
        "import matplotlib.pyplot as plt\n",
        "from sklearn import manifold, datasets\n",
        "\n",
        "digits = classa\n",
        "\n",
        "X = digits.iloc[:, 1:8]\n",
        "Y = digits.iloc[:, 0]\n",
        "\n",
        "\n",
        "'''\n",
        "digitsb = classb\n",
        "\n",
        "Xb = digitsb.iloc[:, 1:8]\n",
        "Yb = digitsb.iloc[:, 0]\n",
        "\n",
        "\n",
        "\n",
        "\n",
        "digitsc = classc\n",
        "\n",
        "Xc = digitsc.iloc[:, 1:8]\n",
        "Yc = digitsc.iloc[:, 0]\n",
        "\n",
        "\n",
        "digitsd = classd\n",
        "\n",
        "Xd = digitsd.iloc[:, 1:8]\n",
        "Yd = digitsd.iloc[:, 0]\n",
        "\n",
        "\n",
        "digitse = classe\n",
        "\n",
        "Xe = digitse.iloc[:, 1:8]\n",
        "Ye = digitse.iloc[:, 0]\n",
        "\n",
        "\n",
        "digitsf = classf\n",
        "\n",
        "Xf = digitsf.iloc[:, 1:8]\n",
        "Yf = digitsf.iloc[:, 0]\n",
        "\n",
        "\n",
        "digitsg = classg\n",
        "\n",
        "Xg = digitsg.iloc[:, 1:8]\n",
        "Yg = digitsg.iloc[:, 0]\n",
        "'''"
      ],
      "execution_count": null,
      "outputs": [
        {
          "output_type": "execute_result",
          "data": {
            "application/vnd.google.colaboratory.intrinsic+json": {
              "type": "string"
            },
            "text/plain": [
              "'\\ndigitsb = classb\\n\\nXb = digitsb.iloc[:, 1:8]\\nYb = digitsb.iloc[:, 0]\\n\\n\\n\\n\\ndigitsc = classc\\n\\nXc = digitsc.iloc[:, 1:8]\\nYc = digitsc.iloc[:, 0]\\n\\n\\ndigitsd = classd\\n\\nXd = digitsd.iloc[:, 1:8]\\nYd = digitsd.iloc[:, 0]\\n\\n\\ndigitse = classe\\n\\nXe = digitse.iloc[:, 1:8]\\nYe = digitse.iloc[:, 0]\\n\\n\\ndigitsf = classf\\n\\nXf = digitsf.iloc[:, 1:8]\\nYf = digitsf.iloc[:, 0]\\n\\n\\ndigitsg = classg\\n\\nXg = digitsg.iloc[:, 1:8]\\nYg = digitsg.iloc[:, 0]\\n'"
            ]
          },
          "metadata": {
            "tags": []
          },
          "execution_count": 3
        }
      ]
    },
    {
      "cell_type": "code",
      "metadata": {
        "colab": {
          "base_uri": "https://localhost:8080/",
          "height": 458
        },
        "id": "relsxNC2d6BF",
        "outputId": "acb59fd8-0bf0-4bf8-9e09-dc3ce8e0049f"
      },
      "source": [
        "from sklearn.manifold import TSNE\n",
        "\n",
        "\n",
        "X_tsne = manifold.TSNE(n_components=2, init='random', random_state=5, verbose=1).fit_transform(X)\n",
        "#tsne = TSNE(n_components=2)\n",
        "#train_2D = tsne.fit_transform(X)\n",
        "x_min, x_max = X_tsne.min(0), X_tsne.max(0)\n",
        "X_norm = (X_tsne - x_min) / (x_max - x_min)  #Normalize\n",
        "#plt.scatter(figsize=(8, 8))\n",
        "for i in range(X_norm.shape[0]):\n",
        "    plt.text(X_norm[i, 0], X_norm[i, 1], str(Y[i]), color=plt.cm.Set1(Y[i]), \n",
        "             fontdict={'weight': 'bold', 'size': 9})\n",
        "#plt.scatter(X_tsne[:,0], X_tsne[:, 1:8], c = Y, s = 0.5)\n",
        "\n",
        "'''\n",
        "tsne = TSNE(n_components=2)\n",
        "train_2Db = tsne.fit_transform(Xb)\n",
        "plt.scatter(train_2Db[:,0], train_2Db[:, 1:8], c = Yb, s = 0.5)\n",
        "'''\n",
        "'''\n",
        "tsne = TSNE(n_components=2)\n",
        "train_2Dc = tsne.fit_transform(Xc)\n",
        "plt.scatter(train_2Dc[:,0], train_2Dc[:, 1:8], c = Yc, s = 0.5)\n",
        "\n",
        "tsne = TSNE(n_components=2)\n",
        "train_2Dd = tsne.fit_transform(Xd)\n",
        "plt.scatter(train_2Dd[:,0], train_2Dd[:, 1:8], c = Yd, s = 0.5)\n",
        "\n",
        "tsne = TSNE(n_components=2)\n",
        "train_2De = tsne.fit_transform(Xe)\n",
        "plt.scatter(train_2De[:,0], train_2De[:, 1:8], c = Ye, s = 0.5)\n",
        "\n",
        "tsne = TSNE(n_components=2)\n",
        "train_2Df = tsne.fit_transform(Xf)\n",
        "plt.scatter(train_2Df[:,0], train_2Df[:, 1:8], c = Yf, s = 0.5)\n",
        "\n",
        "tsne = TSNE(n_components=2)\n",
        "train_2Dg = tsne.fit_transform(Xg)\n",
        "plt.scatter(train_2Dg[:,0], train_2Dg[:, 1:8], c = Yg, s = 0.5)\n",
        "'''"
      ],
      "execution_count": null,
      "outputs": [
        {
          "output_type": "stream",
          "text": [
            "[t-SNE] Computing 91 nearest neighbors...\n",
            "[t-SNE] Indexed 1000 samples in 0.005s...\n",
            "[t-SNE] Computed neighbors for 1000 samples in 0.020s...\n",
            "[t-SNE] Computed conditional probabilities for sample 1000 / 1000\n",
            "[t-SNE] Mean sigma: 0.000000\n",
            "[t-SNE] KL divergence after 250 iterations with early exaggeration: 32.795856\n",
            "[t-SNE] KL divergence after 1000 iterations: 0.002020\n"
          ],
          "name": "stdout"
        },
        {
          "output_type": "execute_result",
          "data": {
            "application/vnd.google.colaboratory.intrinsic+json": {
              "type": "string"
            },
            "text/plain": [
              "'\\ntsne = TSNE(n_components=2)\\ntrain_2Dc = tsne.fit_transform(Xc)\\nplt.scatter(train_2Dc[:,0], train_2Dc[:, 1:8], c = Yc, s = 0.5)\\n\\ntsne = TSNE(n_components=2)\\ntrain_2Dd = tsne.fit_transform(Xd)\\nplt.scatter(train_2Dd[:,0], train_2Dd[:, 1:8], c = Yd, s = 0.5)\\n\\ntsne = TSNE(n_components=2)\\ntrain_2De = tsne.fit_transform(Xe)\\nplt.scatter(train_2De[:,0], train_2De[:, 1:8], c = Ye, s = 0.5)\\n\\ntsne = TSNE(n_components=2)\\ntrain_2Df = tsne.fit_transform(Xf)\\nplt.scatter(train_2Df[:,0], train_2Df[:, 1:8], c = Yf, s = 0.5)\\n\\ntsne = TSNE(n_components=2)\\ntrain_2Dg = tsne.fit_transform(Xg)\\nplt.scatter(train_2Dg[:,0], train_2Dg[:, 1:8], c = Yg, s = 0.5)\\n'"
            ]
          },
          "metadata": {
            "tags": []
          },
          "execution_count": 4
        },
        {
          "output_type": "display_data",
          "data": {
            "image/png": "[encoded data removed]",
            "text/plain": [
              "<Figure size 432x288 with 1 Axes>"
            ]
          },
          "metadata": {
            "tags": [],
            "needs_background": "light"
          }
        }
      ]
    },
    {
      "cell_type": "code",
      "metadata": {
        "id": "m0kQn7B6ecRO"
      },
      "source": [
        "import numpy as np\n",
        "import matplotlib.pyplot as plt\n",
        "from sklearn import manifold, datasets\n",
        "#Prepare the data\n",
        "digits = classa\n",
        "X = digits.iloc[:, 1:8]\n",
        "Y = digits.iloc[:, 0]\n",
        "'''\n",
        "digitsb = classb\n",
        "Xb = digitsb.iloc[:, 1:8]\n",
        "Yb = digitsb.iloc[:, 0]\n",
        "\n",
        "digitsc = classc\n",
        "Xc = digitsc.iloc[:, 1:8]\n",
        "Yc = digitsc.iloc[:, 0]\n",
        "\n",
        "digitsd = classd\n",
        "Xd = digitsd.iloc[:, 1:8]\n",
        "Yd = digitsd.iloc[:, 0]\n",
        "\n",
        "digitse = classe\n",
        "Xe = digitse.iloc[:, 1:8]\n",
        "Ye = digitse.iloc[:, 0]\n",
        "\n",
        "digitsf = classf\n",
        "Xf = digitsf.iloc[:, 1:8]\n",
        "Yf = digitsf.iloc[:, 0]\n",
        "\n",
        "digitsg = classg\n",
        "Xg = digitsg.iloc[:, 1:8]\n",
        "Yg = digitsg.iloc[:, 0]\n",
        "'''\n",
        "\n",
        "\n",
        "\n",
        "'''\n",
        "n_samples, n_features = X.shape\n",
        "#n = 20  \n",
        "#img = np.zeros((10 * n, 10 * n))\n",
        "for i in range(n):\n",
        "    ix = 10 * i + 1\n",
        "    for j in range(n):\n",
        "        iy = 10 * j + 1\n",
        "        img[iX:iX + 8, iY:iY + 8] = X[i * n + j].reshape((8, 8))\n",
        "plt.figure(figsize=(8, 8))\n",
        "plt.imshow(img, cmap=plt.cm.binary)\n",
        "plt.xticks([])\n",
        "plt.yticks([])\n",
        "plt.show()\n",
        "'''\n",
        "tsne = manifold.TSNE(n_components=2, \n",
        "            perplexity=100, \n",
        "            early_exaggeration=12.0, \n",
        "            learning_rate=200.0, n_iter=1000, \n",
        "            n_iter_without_progress=300, \n",
        "            min_grad_norm=1e-07, \n",
        "            metric='euclidean', \n",
        "            init='pca', \n",
        "            verbose=0, \n",
        "            random_state=None, \n",
        "            method='barnes_hut', \n",
        "            angle=0.5, \n",
        "            n_jobs=None)\n",
        "\n",
        "train_2D = tsne.fit_transform(X)\n",
        "plt.scatter(train_2D[:,0], train_2D[:, 1], c = Y, s = 2)\n",
        "\n",
        "\n",
        "\n",
        "\n",
        "\n",
        "\n",
        "\n",
        "#t-SNE\n",
        "'''\n",
        "X_tsne = manifold.TSNE(n_components=2, init='random', random_state=5, verbose=1).fit_transform(X)\n",
        "Xb_tsne = manifold.TSNE(n_components=2, init='random', random_state=5, verbose=1).fit_transform(Xb)\n",
        "Xc_tsne = manifold.TSNE(n_components=2, init='random', random_state=5, verbose=1).fit_transform(Xc)\n",
        "Xd_tsne = manifold.TSNE(n_components=2, init='random', random_state=5, verbose=1).fit_transform(Xd)\n",
        "Xe_tsne = manifold.TSNE(n_components=2, init='random', random_state=5, verbose=1).fit_transform(Xe)\n",
        "Xf_tsne = manifold.TSNE(n_components=2, init='random', random_state=5, verbose=1).fit_transform(Xf)\n",
        "Xg_tsne = manifold.TSNE(n_components=2, init='random', random_state=5, verbose=1).fit_transform(Xg)\n",
        "\n",
        "\n",
        "\n",
        "#Data Visualization\n",
        "x_min, x_max = X_tsne.min(0), X_tsne.max(0)\n",
        "X_norm = (X_tsne - x_min) / (x_max - x_min)  #Normalize\n",
        "#plt.scatter(figsize=(100, 100))\n",
        "for i in range(X_norm.shape[0]):\n",
        "    plt.text(X_norm[i, 0], X_norm[i, 1], str(Y[i]), color=plt.cm.Set1(Y[i]), \n",
        "             fontdict={'weight': 'bold', 'size': 9})\n",
        "    \n",
        "\n",
        "xb_min, xb_max = Xb_tsne.min(0), Xb_tsne.max(0)\n",
        "Xb_norm = (Xb_tsne - xb_min) / (xb_max - xb_min)  #Normalize\n",
        "#plt.scatter(figsize=(100, 100))\n",
        "for i in range(Xb_norm.shape[0]):\n",
        "    plt.text(Xb_norm[i, 0], Xb_norm[i, 1], str(Yb[i]), color=plt.cm.Set1(Yb[i]), \n",
        "             fontdict={'weight': 'bold', 'size': 9})\n",
        "    \n",
        "\n",
        "xc_min, xc_max = Xc_tsne.min(0), Xc_tsne.max(0)\n",
        "Xc_norm = (Xc_tsne - xc_min) / (xc_max - xc_min)  #Normalize\n",
        "#plt.figure(figsize=(8, 8))\n",
        "for i in range(Xc_norm.shape[0]):\n",
        "    plt.text(Xc_norm[i, 0], Xc_norm[i, 1], str(Yc[i]), color=plt.cm.Set1(Yc[i]), \n",
        "             fontdict={'weight': 'bold', 'size': 9})\n",
        "    \n",
        "\n",
        "xd_min, xd_max = Xd_tsne.min(0), Xd_tsne.max(0)\n",
        "Xd_norm = (Xd_tsne - xd_min) / (xd_max - xd_min)  #Normalize\n",
        "#plt.figure(figsize=(8, 8))\n",
        "for i in range(Xd_norm.shape[0]):\n",
        "    plt.text(Xd_norm[i, 0], Xd_norm[i, 1], str(Yd[i]), color=plt.cm.Set1(Yd[i]), \n",
        "             fontdict={'weight': 'bold', 'size': 9})\n",
        "   \n",
        "xe_min, xe_max = Xe_tsne.min(0), Xe_tsne.max(0)\n",
        "Xe_norm = (Xe_tsne - xe_min) / (xe_max - xe_min)  #Normalize\n",
        "#plt.figure(figsize=(8, 8))\n",
        "for i in range(Xe_norm.shape[0]):\n",
        "    plt.text(Xe_norm[i, 0], Xe_norm[i, 1], str(Ye[i]), color=plt.cm.Set1(Ye[i]), \n",
        "             fontdict={'weight': 'bold', 'size': 9})\n",
        "    \n",
        "\n",
        "xf_min, xf_max = Xf_tsne.min(0), Xf_tsne.max(0)\n",
        "Xf_norm = (Xf_tsne - xf_min) / (xf_max - xf_min)  #Normalize\n",
        "#plt.figure(figsize=(8, 8))\n",
        "for i in range(Xf_norm.shape[0]):\n",
        "    plt.text(Xf_norm[i, 0], Xf_norm[i, 1], str(Yf[i]), color=plt.cm.Set1(Yf[i]), \n",
        "             fontdict={'weight': 'bold', 'size': 9})\n",
        "\n",
        "\n",
        "xg_min, xg_max = Xg_tsne.min(0), Xg_tsne.max(0)\n",
        "Xg_norm = (Xg_tsne - xg_min) / (xg_max - xg_min)  #Normalize\n",
        "#plt.figure(figsize=(8, 8))\n",
        "for i in range(Xg_norm.shape[0]):\n",
        "    plt.text(Xg_norm[i, 0], Xg_norm[i, 1], str(Yg[i]), color=plt.cm.Set1(Yg[i]), \n",
        "             fontdict={'weight': 'bold', 'size': 9})\n",
        "\n",
        "\n",
        "\n",
        "\n",
        "plt.xticks([])\n",
        "plt.yticks([])\n",
        "plt.show()\n",
        "'''"
      ],
      "execution_count": null,
      "outputs": []
    },
    {
      "cell_type": "code",
      "metadata": {
        "id": "bjPqaWOsxbnV"
      },
      "source": [
        ""
      ],
      "execution_count": null,
      "outputs": []
    }
  ]
}