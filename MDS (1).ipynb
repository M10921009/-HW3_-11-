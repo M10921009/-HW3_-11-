{
  "nbformat": 4,
  "nbformat_minor": 0,
  "metadata": {
    "colab": {
      "name": "MDS.ipynb",
      "provenance": []
    },
    "kernelspec": {
      "name": "python3",
      "display_name": "Python 3"
    },
    "language_info": {
      "name": "python"
    }
  },
  "cells": [
    {
      "cell_type": "code",
      "metadata": {
        "id": "fv86V9FsK42C"
      },
      "source": [
        "import matplotlib.pyplot as plt\n",
        "from sklearn import datasets\n",
        "from sklearn.manifold import MDS\n",
        "import pandas as pd\n",
        "import numpy as np\n",
        "import xlrd\n",
        "from sklearn import preprocessing\n",
        "from statistics import mean\n"
      ],
      "execution_count": 1,
      "outputs": []
    },
    {
      "cell_type": "code",
      "metadata": {
        "colab": {
          "base_uri": "https://localhost:8080/"
        },
        "id": "ecWqgyadNfRg",
        "outputId": "747eb5ee-82ef-4ee9-f16a-e5c7bad42ccc"
      },
      "source": [
        "data = np.array([[0,37,71,160,213,308,341],[37,0,34,123,176,271,268],[71,34,0,89,142,237,268],[160,123,89,0,53,148,179],[213,176,142,53,0,95,126],[308,271,237,148,95,0,31],[341,302,268,179,126,31,0]])\n",
        "print(data)"
      ],
      "execution_count": 30,
      "outputs": [
        {
          "output_type": "stream",
          "text": [
            "[[  0  37  71 160 213 308 341]\n",
            " [ 37   0  34 123 176 271 268]\n",
            " [ 71  34   0  89 142 237 268]\n",
            " [160 123  89   0  53 148 179]\n",
            " [213 176 142  53   0  95 126]\n",
            " [308 271 237 148  95   0  31]\n",
            " [341 302 268 179 126  31   0]]\n"
          ],
          "name": "stdout"
        }
      ]
    },
    {
      "cell_type": "code",
      "metadata": {
        "colab": {
          "base_uri": "https://localhost:8080/",
          "height": 463
        },
        "id": "oZMKog6QQtr5",
        "outputId": "8bf8760e-f71d-4caf-da25-a64134368feb"
      },
      "source": [
        "import numpy as np\n",
        "import pandas as pd\n",
        "from sklearn.manifold import MDS\n",
        "import matplotlib.pyplot as plt\n",
        "\n",
        "data = np.array([[0,37,71,160,213,308,341],[37,0,34,123,176,271,268],[71,34,0,89,142,237,268],[160,123,89,0,53,148,179],[213,176,142,53,0,95,126],[308,271,237,148,95,0,31],[341,302,268,179,126,31,0]])\n",
        "index = ['Taipei','Taoyuan','Hsinchu','Taichung','Yunlin','Tainan','Kaohsiung']\n",
        "columns = ['Taipei','Taoyuan','Hsinchu','Taichung','Yunlin','Tainan','Kaohsiung']\n",
        "Word = pd.DataFrame(data,index,columns)\n",
        "\n",
        "mds = MDS()\n",
        "mds.fit(data)\n",
        "a = mds.embedding_\n",
        "print(a)\n",
        "plt.scatter(a[0:7,0],a[0:7,1],color='blue')\n",
        "#plt.scatter(a[5:10,0],a[5:10,1],color='red')\n"
      ],
      "execution_count": 31,
      "outputs": [
        {
          "output_type": "stream",
          "text": [
            "[[  34.71345909 -317.11178357]\n",
            " [ 101.60063843 -237.87698442]\n",
            " [ 139.07079032 -174.17636245]\n",
            " [ 118.04122093   51.09550263]\n",
            " [  42.56067639  158.20941088]\n",
            " [-178.821133    261.33377022]\n",
            " [-257.16565216  258.5264467 ]]\n"
          ],
          "name": "stdout"
        },
        {
          "output_type": "stream",
          "text": [
            "/usr/local/lib/python3.7/dist-packages/sklearn/manifold/_mds.py:419: UserWarning: The MDS API has changed. ``fit`` now constructs an dissimilarity matrix from data. To use a custom dissimilarity matrix, set ``dissimilarity='precomputed'``.\n",
            "  warnings.warn(\"The MDS API has changed. ``fit`` now constructs an\"\n"
          ],
          "name": "stderr"
        },
        {
          "output_type": "execute_result",
          "data": {
            "text/plain": [
              "<matplotlib.collections.PathCollection at 0x7efe6dc4dad0>"
            ]
          },
          "metadata": {
            "tags": []
          },
          "execution_count": 31
        },
        {
          "output_type": "display_data",
          "data": {
            "image/png": "[encoded data removed]",
            "text/plain": [
              "<Figure size 432x288 with 1 Axes>"
            ]
          },
          "metadata": {
            "tags": [],
            "needs_background": "light"
          }
        }
      ]
    },
    {
      "cell_type": "code",
      "metadata": {
        "id": "HvQiyV-hFI7C"
      },
      "source": [
        ""
      ],
      "execution_count": 21,
      "outputs": []
    }
  ]
}